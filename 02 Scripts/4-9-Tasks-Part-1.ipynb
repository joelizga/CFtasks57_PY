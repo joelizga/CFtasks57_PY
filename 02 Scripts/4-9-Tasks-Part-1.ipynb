{
 "cells": [
  {
   "cell_type": "markdown",
   "id": "af1baf9d-6d77-4020-a382-2009d14e7ad1",
   "metadata": {},
   "source": [
    "4-9 Tasks Part 1"
   ]
  },
  {
   "cell_type": "markdown",
   "id": "de024944-e1f4-487a-9955-88622a852211",
   "metadata": {},
   "source": [
    "01 import libraries and datasets"
   ]
  },
  {
   "cell_type": "code",
   "execution_count": 3,
   "id": "2a85c1db-4baf-4030-8eee-fa472fb0b420",
   "metadata": {},
   "outputs": [],
   "source": [
    "#01.1 import libraries\n",
    "import pandas as pd\n",
    "import numpy as np\n",
    "import os\n",
    "import matplotlib.pyplot as plt\n",
    "import seaborn as sns\n",
    "import scipy"
   ]
  },
  {
   "cell_type": "code",
   "execution_count": 4,
   "id": "267dc5f0-c0e2-4f2b-acd1-1d0ab1bde117",
   "metadata": {},
   "outputs": [],
   "source": [
    "#01.2 create path to project folder\n",
    "path=r'D:\\Joan\\CareerFoundry\\Assessment 4\\2024-08-Instacart Basket Analysis'"
   ]
  },
  {
   "cell_type": "code",
   "execution_count": 5,
   "id": "f4cdb757-df2e-4d01-8a2f-71a2e56e38ce",
   "metadata": {},
   "outputs": [],
   "source": [
    "#01.3 import dataframe customers\n",
    "df_cust=pd.read_csv(os.path.join(path, '02 Data', 'Original Data', 'customers.csv'))\n"
   ]
  },
  {
   "cell_type": "markdown",
   "id": "6953ae8e-9e86-4565-9c51-ed6b9e954332",
   "metadata": {},
   "source": [
    "02 initial description of original dataset"
   ]
  },
  {
   "cell_type": "code",
   "execution_count": 7,
   "id": "53f6fac0-41a0-4841-b387-fd4b40cbb1ed",
   "metadata": {},
   "outputs": [
    {
     "data": {
      "text/plain": [
       "(206209, 10)"
      ]
     },
     "execution_count": 7,
     "metadata": {},
     "output_type": "execute_result"
    }
   ],
   "source": [
    "#02.1 shape of df_cust and record on project spreadsheet\n",
    "df_cust.shape"
   ]
  },
  {
   "cell_type": "code",
   "execution_count": 8,
   "id": "1f6c61bb-72cc-4177-97a2-a4fbe581e2b3",
   "metadata": {},
   "outputs": [
    {
     "data": {
      "text/plain": [
       "Index(['user_id', 'First Name', 'Surnam', 'Gender', 'STATE', 'Age',\n",
       "       'date_joined', 'n_dependants', 'fam_status', 'income'],\n",
       "      dtype='object')"
      ]
     },
     "execution_count": 8,
     "metadata": {},
     "output_type": "execute_result"
    }
   ],
   "source": [
    "#02.2 see columns of df_cust\n",
    "df_cust.columns"
   ]
  },
  {
   "cell_type": "code",
   "execution_count": 9,
   "id": "5c9f5a4f-648d-42b9-8411-4b82cdc2c855",
   "metadata": {},
   "outputs": [
    {
     "data": {
      "text/html": [
       "<div>\n",
       "<style scoped>\n",
       "    .dataframe tbody tr th:only-of-type {\n",
       "        vertical-align: middle;\n",
       "    }\n",
       "\n",
       "    .dataframe tbody tr th {\n",
       "        vertical-align: top;\n",
       "    }\n",
       "\n",
       "    .dataframe thead th {\n",
       "        text-align: right;\n",
       "    }\n",
       "</style>\n",
       "<table border=\"1\" class=\"dataframe\">\n",
       "  <thead>\n",
       "    <tr style=\"text-align: right;\">\n",
       "      <th></th>\n",
       "      <th>user_id</th>\n",
       "      <th>First Name</th>\n",
       "      <th>Surnam</th>\n",
       "      <th>Gender</th>\n",
       "      <th>STATE</th>\n",
       "      <th>Age</th>\n",
       "      <th>date_joined</th>\n",
       "      <th>n_dependants</th>\n",
       "      <th>fam_status</th>\n",
       "      <th>income</th>\n",
       "    </tr>\n",
       "  </thead>\n",
       "  <tbody>\n",
       "    <tr>\n",
       "      <th>0</th>\n",
       "      <td>26711</td>\n",
       "      <td>Deborah</td>\n",
       "      <td>Esquivel</td>\n",
       "      <td>Female</td>\n",
       "      <td>Missouri</td>\n",
       "      <td>48</td>\n",
       "      <td>1/1/2017</td>\n",
       "      <td>3</td>\n",
       "      <td>married</td>\n",
       "      <td>165665</td>\n",
       "    </tr>\n",
       "    <tr>\n",
       "      <th>1</th>\n",
       "      <td>33890</td>\n",
       "      <td>Patricia</td>\n",
       "      <td>Hart</td>\n",
       "      <td>Female</td>\n",
       "      <td>New Mexico</td>\n",
       "      <td>36</td>\n",
       "      <td>1/1/2017</td>\n",
       "      <td>0</td>\n",
       "      <td>single</td>\n",
       "      <td>59285</td>\n",
       "    </tr>\n",
       "    <tr>\n",
       "      <th>2</th>\n",
       "      <td>65803</td>\n",
       "      <td>Kenneth</td>\n",
       "      <td>Farley</td>\n",
       "      <td>Male</td>\n",
       "      <td>Idaho</td>\n",
       "      <td>35</td>\n",
       "      <td>1/1/2017</td>\n",
       "      <td>2</td>\n",
       "      <td>married</td>\n",
       "      <td>99568</td>\n",
       "    </tr>\n",
       "    <tr>\n",
       "      <th>3</th>\n",
       "      <td>125935</td>\n",
       "      <td>Michelle</td>\n",
       "      <td>Hicks</td>\n",
       "      <td>Female</td>\n",
       "      <td>Iowa</td>\n",
       "      <td>40</td>\n",
       "      <td>1/1/2017</td>\n",
       "      <td>0</td>\n",
       "      <td>single</td>\n",
       "      <td>42049</td>\n",
       "    </tr>\n",
       "    <tr>\n",
       "      <th>4</th>\n",
       "      <td>130797</td>\n",
       "      <td>Ann</td>\n",
       "      <td>Gilmore</td>\n",
       "      <td>Female</td>\n",
       "      <td>Maryland</td>\n",
       "      <td>26</td>\n",
       "      <td>1/1/2017</td>\n",
       "      <td>1</td>\n",
       "      <td>married</td>\n",
       "      <td>40374</td>\n",
       "    </tr>\n",
       "  </tbody>\n",
       "</table>\n",
       "</div>"
      ],
      "text/plain": [
       "   user_id First Name    Surnam  Gender       STATE  Age date_joined  \\\n",
       "0    26711    Deborah  Esquivel  Female    Missouri   48    1/1/2017   \n",
       "1    33890   Patricia      Hart  Female  New Mexico   36    1/1/2017   \n",
       "2    65803    Kenneth    Farley    Male       Idaho   35    1/1/2017   \n",
       "3   125935   Michelle     Hicks  Female        Iowa   40    1/1/2017   \n",
       "4   130797        Ann   Gilmore  Female    Maryland   26    1/1/2017   \n",
       "\n",
       "   n_dependants fam_status  income  \n",
       "0             3    married  165665  \n",
       "1             0     single   59285  \n",
       "2             2    married   99568  \n",
       "3             0     single   42049  \n",
       "4             1    married   40374  "
      ]
     },
     "execution_count": 9,
     "metadata": {},
     "output_type": "execute_result"
    }
   ],
   "source": [
    "#02.3 first five rows of df_cust\n",
    "df_cust.head()"
   ]
  },
  {
   "cell_type": "code",
   "execution_count": 10,
   "id": "462e993d-f2dc-49c5-9b50-3f7d3f5db460",
   "metadata": {},
   "outputs": [
    {
     "name": "stdout",
     "output_type": "stream",
     "text": [
      "<class 'pandas.core.frame.DataFrame'>\n",
      "RangeIndex: 206209 entries, 0 to 206208\n",
      "Data columns (total 10 columns):\n",
      " #   Column        Non-Null Count   Dtype \n",
      "---  ------        --------------   ----- \n",
      " 0   user_id       206209 non-null  int64 \n",
      " 1   First Name    194950 non-null  object\n",
      " 2   Surnam        206209 non-null  object\n",
      " 3   Gender        206209 non-null  object\n",
      " 4   STATE         206209 non-null  object\n",
      " 5   Age           206209 non-null  int64 \n",
      " 6   date_joined   206209 non-null  object\n",
      " 7   n_dependants  206209 non-null  int64 \n",
      " 8   fam_status    206209 non-null  object\n",
      " 9   income        206209 non-null  int64 \n",
      "dtypes: int64(4), object(6)\n",
      "memory usage: 15.7+ MB\n"
     ]
    }
   ],
   "source": [
    "#02.4 info on df_cust\n",
    "df_cust.info()"
   ]
  },
  {
   "cell_type": "code",
   "execution_count": 11,
   "id": "41a91f2d-c3b0-4c7a-988c-a387ef166131",
   "metadata": {},
   "outputs": [
    {
     "data": {
      "text/html": [
       "<div>\n",
       "<style scoped>\n",
       "    .dataframe tbody tr th:only-of-type {\n",
       "        vertical-align: middle;\n",
       "    }\n",
       "\n",
       "    .dataframe tbody tr th {\n",
       "        vertical-align: top;\n",
       "    }\n",
       "\n",
       "    .dataframe thead th {\n",
       "        text-align: right;\n",
       "    }\n",
       "</style>\n",
       "<table border=\"1\" class=\"dataframe\">\n",
       "  <thead>\n",
       "    <tr style=\"text-align: right;\">\n",
       "      <th></th>\n",
       "      <th>user_id</th>\n",
       "      <th>Age</th>\n",
       "      <th>n_dependants</th>\n",
       "      <th>income</th>\n",
       "    </tr>\n",
       "  </thead>\n",
       "  <tbody>\n",
       "    <tr>\n",
       "      <th>count</th>\n",
       "      <td>206209.000000</td>\n",
       "      <td>206209.000000</td>\n",
       "      <td>206209.000000</td>\n",
       "      <td>206209.000000</td>\n",
       "    </tr>\n",
       "    <tr>\n",
       "      <th>mean</th>\n",
       "      <td>103105.000000</td>\n",
       "      <td>49.501646</td>\n",
       "      <td>1.499823</td>\n",
       "      <td>94632.852548</td>\n",
       "    </tr>\n",
       "    <tr>\n",
       "      <th>std</th>\n",
       "      <td>59527.555167</td>\n",
       "      <td>18.480962</td>\n",
       "      <td>1.118433</td>\n",
       "      <td>42473.786988</td>\n",
       "    </tr>\n",
       "    <tr>\n",
       "      <th>min</th>\n",
       "      <td>1.000000</td>\n",
       "      <td>18.000000</td>\n",
       "      <td>0.000000</td>\n",
       "      <td>25903.000000</td>\n",
       "    </tr>\n",
       "    <tr>\n",
       "      <th>25%</th>\n",
       "      <td>51553.000000</td>\n",
       "      <td>33.000000</td>\n",
       "      <td>0.000000</td>\n",
       "      <td>59874.000000</td>\n",
       "    </tr>\n",
       "    <tr>\n",
       "      <th>50%</th>\n",
       "      <td>103105.000000</td>\n",
       "      <td>49.000000</td>\n",
       "      <td>1.000000</td>\n",
       "      <td>93547.000000</td>\n",
       "    </tr>\n",
       "    <tr>\n",
       "      <th>75%</th>\n",
       "      <td>154657.000000</td>\n",
       "      <td>66.000000</td>\n",
       "      <td>3.000000</td>\n",
       "      <td>124244.000000</td>\n",
       "    </tr>\n",
       "    <tr>\n",
       "      <th>max</th>\n",
       "      <td>206209.000000</td>\n",
       "      <td>81.000000</td>\n",
       "      <td>3.000000</td>\n",
       "      <td>593901.000000</td>\n",
       "    </tr>\n",
       "  </tbody>\n",
       "</table>\n",
       "</div>"
      ],
      "text/plain": [
       "             user_id            Age   n_dependants         income\n",
       "count  206209.000000  206209.000000  206209.000000  206209.000000\n",
       "mean   103105.000000      49.501646       1.499823   94632.852548\n",
       "std     59527.555167      18.480962       1.118433   42473.786988\n",
       "min         1.000000      18.000000       0.000000   25903.000000\n",
       "25%     51553.000000      33.000000       0.000000   59874.000000\n",
       "50%    103105.000000      49.000000       1.000000   93547.000000\n",
       "75%    154657.000000      66.000000       3.000000  124244.000000\n",
       "max    206209.000000      81.000000       3.000000  593901.000000"
      ]
     },
     "execution_count": 11,
     "metadata": {},
     "output_type": "execute_result"
    }
   ],
   "source": [
    "#02.5 describe df_cust\n",
    "df_cust.describe()"
   ]
  },
  {
   "cell_type": "code",
   "execution_count": 12,
   "id": "50b1281b-e65a-4886-8c0e-1e9f245c1181",
   "metadata": {},
   "outputs": [
    {
     "data": {
      "text/plain": [
       "user_id             0\n",
       "First Name      11259\n",
       "Surnam              0\n",
       "Gender              0\n",
       "STATE               0\n",
       "Age                 0\n",
       "date_joined         0\n",
       "n_dependants        0\n",
       "fam_status          0\n",
       "income              0\n",
       "dtype: int64"
      ]
     },
     "execution_count": 12,
     "metadata": {},
     "output_type": "execute_result"
    }
   ],
   "source": [
    "#02.6 look for missing data in df_cust\n",
    "df_cust.isnull().sum()"
   ]
  },
  {
   "cell_type": "markdown",
   "id": "f7189c6d-4c4b-4a94-aebb-6b3497b33447",
   "metadata": {},
   "source": [
    "03 Wrangling Data: Dropping Columns, Renaming, Changing Data Type, and Transposition"
   ]
  },
  {
   "cell_type": "code",
   "execution_count": 14,
   "id": "b2e1dc0a-c7c6-4b7a-96c7-3f631ed7b55a",
   "metadata": {},
   "outputs": [],
   "source": [
    "#03.1 Dropping columns - I see no unnecessary columns so none will be dropped."
   ]
  },
  {
   "cell_type": "code",
   "execution_count": 15,
   "id": "86a0afbc-989a-4004-a532-a334d2e8e64a",
   "metadata": {},
   "outputs": [],
   "source": [
    "#03.2 Renaming columns - Surnam, STATE, n_dependents, fam status"
   ]
  },
  {
   "cell_type": "code",
   "execution_count": 16,
   "id": "862d3cdf-24e6-4f03-8e27-a4031d3ca501",
   "metadata": {},
   "outputs": [],
   "source": [
    "#03.21 Surnam to Last Name\n",
    "df_cust.rename(columns={'Surnam' : 'Last Name'}, inplace=True)"
   ]
  },
  {
   "cell_type": "code",
   "execution_count": 17,
   "id": "99205bde-42c8-4568-a639-5d7b73e40816",
   "metadata": {},
   "outputs": [],
   "source": [
    "#03.22 STATE to state\n",
    "df_cust.rename(columns={'STATE' : 'state'}, inplace=True)"
   ]
  },
  {
   "cell_type": "code",
   "execution_count": 18,
   "id": "a812fd58-b158-4aed-8179-8d63c52f428d",
   "metadata": {},
   "outputs": [],
   "source": [
    "#03.23 n_dependants to number_of_dependents\n",
    "df_cust.rename(columns={'n_dependants' : 'number_of_dependents'}, inplace=True)"
   ]
  },
  {
   "cell_type": "code",
   "execution_count": 19,
   "id": "90ecc087-9cd6-40e8-889f-7034125ffd72",
   "metadata": {},
   "outputs": [],
   "source": [
    "#03.24 fam status to marital_status\n",
    "df_cust.rename(columns={'fam_status' : 'marital_status'}, inplace=True)"
   ]
  },
  {
   "cell_type": "code",
   "execution_count": 20,
   "id": "2924afe9-1fdc-420d-bca2-346826519ac0",
   "metadata": {},
   "outputs": [],
   "source": [
    "#03.25 First Name to first_name\n",
    "df_cust.rename(columns={'First Name' : 'first_name'}, inplace=True)"
   ]
  },
  {
   "cell_type": "code",
   "execution_count": 21,
   "id": "ae21dc9e-d524-4e20-8b4f-6f59a926112b",
   "metadata": {},
   "outputs": [],
   "source": [
    "#03.26 Age to age\n",
    "df_cust.rename(columns={'Age' : 'age'}, inplace=True)"
   ]
  },
  {
   "cell_type": "code",
   "execution_count": 22,
   "id": "455a76bc-7460-4f82-bd07-368b2c07cd5a",
   "metadata": {},
   "outputs": [],
   "source": [
    "#03.27 Gender to sex\n",
    "df_cust.rename(columns={'Gender' : 'sex'}, inplace=True)"
   ]
  },
  {
   "cell_type": "code",
   "execution_count": 23,
   "id": "80d429bf-38c6-4bba-b2f9-733d0e0add0e",
   "metadata": {},
   "outputs": [],
   "source": [
    "#03.21 Last Name to last_name\n",
    "df_cust.rename(columns={'Last Name' : 'last_name'}, inplace=True)"
   ]
  },
  {
   "cell_type": "code",
   "execution_count": 24,
   "id": "8a023a8a-4b9f-42f4-867a-9c03338905e4",
   "metadata": {},
   "outputs": [
    {
     "data": {
      "text/plain": [
       "Index(['user_id', 'first_name', 'last_name', 'sex', 'state', 'age',\n",
       "       'date_joined', 'number_of_dependents', 'marital_status', 'income'],\n",
       "      dtype='object')"
      ]
     },
     "execution_count": 24,
     "metadata": {},
     "output_type": "execute_result"
    }
   ],
   "source": [
    "#03.25 check renaming of columns\n",
    "df_cust.columns"
   ]
  },
  {
   "cell_type": "code",
   "execution_count": 25,
   "id": "3d349d1c-72e7-4fe6-800c-0e23f4cf9497",
   "metadata": {},
   "outputs": [],
   "source": [
    "#03.3 Changing Data Types - user_id, date_joined"
   ]
  },
  {
   "cell_type": "code",
   "execution_count": 26,
   "id": "1066c5f9-b5e9-4fd7-af16-9f543fbdb94b",
   "metadata": {},
   "outputs": [],
   "source": [
    "#03.31 change user_id from int64 to object\n",
    "df_cust['user_id']=df_cust['user_id'].astype('str')"
   ]
  },
  {
   "cell_type": "code",
   "execution_count": 27,
   "id": "01505c20-3a7f-418a-a4e6-b062d088e015",
   "metadata": {},
   "outputs": [],
   "source": [
    "#03.32 change date_joined from object to datetime set time format\n",
    "timefmt = \"%m/%d/%Y\""
   ]
  },
  {
   "cell_type": "code",
   "execution_count": 28,
   "id": "bffc4232-c972-4ecd-9649-53c1a8e96db0",
   "metadata": {},
   "outputs": [],
   "source": [
    "#03.33 change date_joined from object to datetime\n",
    "df_cust['date_joined'] = pd.to_datetime(df_cust['date_joined'], format = timefmt, errors='coerce')"
   ]
  },
  {
   "cell_type": "code",
   "execution_count": 29,
   "id": "8cf2dd34-a00c-4407-a05a-d58e8b45348d",
   "metadata": {},
   "outputs": [
    {
     "data": {
      "text/html": [
       "<div>\n",
       "<style scoped>\n",
       "    .dataframe tbody tr th:only-of-type {\n",
       "        vertical-align: middle;\n",
       "    }\n",
       "\n",
       "    .dataframe tbody tr th {\n",
       "        vertical-align: top;\n",
       "    }\n",
       "\n",
       "    .dataframe thead th {\n",
       "        text-align: right;\n",
       "    }\n",
       "</style>\n",
       "<table border=\"1\" class=\"dataframe\">\n",
       "  <thead>\n",
       "    <tr style=\"text-align: right;\">\n",
       "      <th></th>\n",
       "      <th>user_id</th>\n",
       "      <th>first_name</th>\n",
       "      <th>last_name</th>\n",
       "      <th>sex</th>\n",
       "      <th>state</th>\n",
       "      <th>age</th>\n",
       "      <th>date_joined</th>\n",
       "      <th>number_of_dependents</th>\n",
       "      <th>marital_status</th>\n",
       "      <th>income</th>\n",
       "    </tr>\n",
       "  </thead>\n",
       "  <tbody>\n",
       "    <tr>\n",
       "      <th>0</th>\n",
       "      <td>26711</td>\n",
       "      <td>Deborah</td>\n",
       "      <td>Esquivel</td>\n",
       "      <td>Female</td>\n",
       "      <td>Missouri</td>\n",
       "      <td>48</td>\n",
       "      <td>2017-01-01</td>\n",
       "      <td>3</td>\n",
       "      <td>married</td>\n",
       "      <td>165665</td>\n",
       "    </tr>\n",
       "    <tr>\n",
       "      <th>1</th>\n",
       "      <td>33890</td>\n",
       "      <td>Patricia</td>\n",
       "      <td>Hart</td>\n",
       "      <td>Female</td>\n",
       "      <td>New Mexico</td>\n",
       "      <td>36</td>\n",
       "      <td>2017-01-01</td>\n",
       "      <td>0</td>\n",
       "      <td>single</td>\n",
       "      <td>59285</td>\n",
       "    </tr>\n",
       "    <tr>\n",
       "      <th>2</th>\n",
       "      <td>65803</td>\n",
       "      <td>Kenneth</td>\n",
       "      <td>Farley</td>\n",
       "      <td>Male</td>\n",
       "      <td>Idaho</td>\n",
       "      <td>35</td>\n",
       "      <td>2017-01-01</td>\n",
       "      <td>2</td>\n",
       "      <td>married</td>\n",
       "      <td>99568</td>\n",
       "    </tr>\n",
       "    <tr>\n",
       "      <th>3</th>\n",
       "      <td>125935</td>\n",
       "      <td>Michelle</td>\n",
       "      <td>Hicks</td>\n",
       "      <td>Female</td>\n",
       "      <td>Iowa</td>\n",
       "      <td>40</td>\n",
       "      <td>2017-01-01</td>\n",
       "      <td>0</td>\n",
       "      <td>single</td>\n",
       "      <td>42049</td>\n",
       "    </tr>\n",
       "    <tr>\n",
       "      <th>4</th>\n",
       "      <td>130797</td>\n",
       "      <td>Ann</td>\n",
       "      <td>Gilmore</td>\n",
       "      <td>Female</td>\n",
       "      <td>Maryland</td>\n",
       "      <td>26</td>\n",
       "      <td>2017-01-01</td>\n",
       "      <td>1</td>\n",
       "      <td>married</td>\n",
       "      <td>40374</td>\n",
       "    </tr>\n",
       "  </tbody>\n",
       "</table>\n",
       "</div>"
      ],
      "text/plain": [
       "  user_id first_name last_name     sex       state  age date_joined  \\\n",
       "0   26711    Deborah  Esquivel  Female    Missouri   48  2017-01-01   \n",
       "1   33890   Patricia      Hart  Female  New Mexico   36  2017-01-01   \n",
       "2   65803    Kenneth    Farley    Male       Idaho   35  2017-01-01   \n",
       "3  125935   Michelle     Hicks  Female        Iowa   40  2017-01-01   \n",
       "4  130797        Ann   Gilmore  Female    Maryland   26  2017-01-01   \n",
       "\n",
       "   number_of_dependents marital_status  income  \n",
       "0                     3        married  165665  \n",
       "1                     0         single   59285  \n",
       "2                     2        married   99568  \n",
       "3                     0         single   42049  \n",
       "4                     1        married   40374  "
      ]
     },
     "execution_count": 29,
     "metadata": {},
     "output_type": "execute_result"
    }
   ],
   "source": [
    "#03.34 check first five rows of df_cust\n",
    "df_cust.head()\n"
   ]
  },
  {
   "cell_type": "code",
   "execution_count": 30,
   "id": "7ced1130-edee-4311-aecf-618a2ec66b9f",
   "metadata": {
    "scrolled": true
   },
   "outputs": [
    {
     "data": {
      "text/plain": [
       "user_id                         object\n",
       "first_name                      object\n",
       "last_name                       object\n",
       "sex                             object\n",
       "state                           object\n",
       "age                              int64\n",
       "date_joined             datetime64[ns]\n",
       "number_of_dependents             int64\n",
       "marital_status                  object\n",
       "income                           int64\n",
       "dtype: object"
      ]
     },
     "execution_count": 30,
     "metadata": {},
     "output_type": "execute_result"
    }
   ],
   "source": [
    "#03.35 check df_cust datatypes\n",
    "df_cust.dtypes"
   ]
  },
  {
   "cell_type": "markdown",
   "id": "daab7ccb-d7a0-4a25-b245-ea27e23793c4",
   "metadata": {},
   "source": [
    "04 Categorical Data Review"
   ]
  },
  {
   "cell_type": "code",
   "execution_count": 32,
   "id": "63d47a55-b91b-44b8-baaf-64122e0a7f1f",
   "metadata": {},
   "outputs": [
    {
     "data": {
      "text/plain": [
       "sex\n",
       "Male      104067\n",
       "Female    102142\n",
       "Name: count, dtype: int64"
      ]
     },
     "execution_count": 32,
     "metadata": {},
     "output_type": "execute_result"
    }
   ],
   "source": [
    "#04.1 frequency of gender\n",
    "df_cust['sex'].value_counts()"
   ]
  },
  {
   "cell_type": "code",
   "execution_count": 33,
   "id": "f609fd60-a102-4ce4-a6d8-994ee77d8490",
   "metadata": {},
   "outputs": [
    {
     "data": {
      "text/plain": [
       "state\n",
       "Florida                 4044\n",
       "Colorado                4044\n",
       "Illinois                4044\n",
       "Alabama                 4044\n",
       "District of Columbia    4044\n",
       "Hawaii                  4044\n",
       "Arizona                 4044\n",
       "Connecticut             4044\n",
       "California              4044\n",
       "Indiana                 4044\n",
       "Arkansas                4044\n",
       "Alaska                  4044\n",
       "Delaware                4044\n",
       "Iowa                    4044\n",
       "Idaho                   4044\n",
       "Georgia                 4044\n",
       "Wyoming                 4043\n",
       "Mississippi             4043\n",
       "Oklahoma                4043\n",
       "Utah                    4043\n",
       "New Hampshire           4043\n",
       "Kentucky                4043\n",
       "Maryland                4043\n",
       "Rhode Island            4043\n",
       "Massachusetts           4043\n",
       "Michigan                4043\n",
       "New Jersey              4043\n",
       "Kansas                  4043\n",
       "South Dakota            4043\n",
       "Minnesota               4043\n",
       "Tennessee               4043\n",
       "New York                4043\n",
       "Washington              4043\n",
       "Louisiana               4043\n",
       "Montana                 4043\n",
       "North Dakota            4043\n",
       "Wisconsin               4043\n",
       "Nebraska                4043\n",
       "Vermont                 4043\n",
       "Nevada                  4043\n",
       "Maine                   4043\n",
       "North Carolina          4043\n",
       "West Virginia           4043\n",
       "Virginia                4043\n",
       "Oregon                  4043\n",
       "New Mexico              4043\n",
       "Texas                   4043\n",
       "Pennsylvania            4043\n",
       "Ohio                    4043\n",
       "South Carolina          4043\n",
       "Missouri                4043\n",
       "Name: count, dtype: int64"
      ]
     },
     "execution_count": 33,
     "metadata": {},
     "output_type": "execute_result"
    }
   ],
   "source": [
    "#04.2 frequency of State\n",
    "df_cust['state'].value_counts()"
   ]
  },
  {
   "cell_type": "code",
   "execution_count": 34,
   "id": "689498eb-449e-4b62-9ce0-f2db67370a38",
   "metadata": {},
   "outputs": [
    {
     "data": {
      "text/plain": [
       "marital_status\n",
       "married                             144906\n",
       "single                               33962\n",
       "divorced/widowed                     17640\n",
       "living with parents and siblings      9701\n",
       "Name: count, dtype: int64"
      ]
     },
     "execution_count": 34,
     "metadata": {},
     "output_type": "execute_result"
    }
   ],
   "source": [
    "#04.3 frequency of marital_status\n",
    "df_cust['marital_status'].value_counts()"
   ]
  },
  {
   "cell_type": "markdown",
   "id": "edfcfc12-278c-4cdc-a15b-3c2d2ccfb109",
   "metadata": {},
   "source": [
    "05 Check for Missing Values"
   ]
  },
  {
   "cell_type": "code",
   "execution_count": 36,
   "id": "6f2dd2da-e7be-4591-9007-8e7af75ff5a8",
   "metadata": {},
   "outputs": [
    {
     "data": {
      "text/plain": [
       "user_id                     0\n",
       "first_name              11259\n",
       "last_name                   0\n",
       "sex                         0\n",
       "state                       0\n",
       "age                         0\n",
       "date_joined                 0\n",
       "number_of_dependents        0\n",
       "marital_status              0\n",
       "income                      0\n",
       "dtype: int64"
      ]
     },
     "execution_count": 36,
     "metadata": {},
     "output_type": "execute_result"
    }
   ],
   "source": [
    "#05.1 check for missing values all\n",
    "df_cust.isnull().sum()"
   ]
  },
  {
   "cell_type": "code",
   "execution_count": 37,
   "id": "fe28b086-8988-4946-bf92-c840b3937c3a",
   "metadata": {},
   "outputs": [],
   "source": [
    "#05.2 create subset to look at missing first names\n",
    "df_first_name=df_cust[df_cust['first_name'].isnull()==True]"
   ]
  },
  {
   "cell_type": "code",
   "execution_count": 38,
   "id": "768199ab-4eee-4173-8c74-c1a9d7f40a7f",
   "metadata": {},
   "outputs": [
    {
     "data": {
      "text/html": [
       "<div>\n",
       "<style scoped>\n",
       "    .dataframe tbody tr th:only-of-type {\n",
       "        vertical-align: middle;\n",
       "    }\n",
       "\n",
       "    .dataframe tbody tr th {\n",
       "        vertical-align: top;\n",
       "    }\n",
       "\n",
       "    .dataframe thead th {\n",
       "        text-align: right;\n",
       "    }\n",
       "</style>\n",
       "<table border=\"1\" class=\"dataframe\">\n",
       "  <thead>\n",
       "    <tr style=\"text-align: right;\">\n",
       "      <th></th>\n",
       "      <th>user_id</th>\n",
       "      <th>first_name</th>\n",
       "      <th>last_name</th>\n",
       "      <th>sex</th>\n",
       "      <th>state</th>\n",
       "      <th>age</th>\n",
       "      <th>date_joined</th>\n",
       "      <th>number_of_dependents</th>\n",
       "      <th>marital_status</th>\n",
       "      <th>income</th>\n",
       "    </tr>\n",
       "  </thead>\n",
       "  <tbody>\n",
       "    <tr>\n",
       "      <th>53</th>\n",
       "      <td>76659</td>\n",
       "      <td>NaN</td>\n",
       "      <td>Gilbert</td>\n",
       "      <td>Male</td>\n",
       "      <td>Colorado</td>\n",
       "      <td>26</td>\n",
       "      <td>2017-01-01</td>\n",
       "      <td>2</td>\n",
       "      <td>married</td>\n",
       "      <td>41709</td>\n",
       "    </tr>\n",
       "    <tr>\n",
       "      <th>73</th>\n",
       "      <td>13738</td>\n",
       "      <td>NaN</td>\n",
       "      <td>Frost</td>\n",
       "      <td>Female</td>\n",
       "      <td>Louisiana</td>\n",
       "      <td>39</td>\n",
       "      <td>2017-01-01</td>\n",
       "      <td>0</td>\n",
       "      <td>single</td>\n",
       "      <td>82518</td>\n",
       "    </tr>\n",
       "    <tr>\n",
       "      <th>82</th>\n",
       "      <td>89996</td>\n",
       "      <td>NaN</td>\n",
       "      <td>Dawson</td>\n",
       "      <td>Female</td>\n",
       "      <td>Oregon</td>\n",
       "      <td>52</td>\n",
       "      <td>2017-01-01</td>\n",
       "      <td>3</td>\n",
       "      <td>married</td>\n",
       "      <td>117099</td>\n",
       "    </tr>\n",
       "    <tr>\n",
       "      <th>99</th>\n",
       "      <td>96166</td>\n",
       "      <td>NaN</td>\n",
       "      <td>Oconnor</td>\n",
       "      <td>Male</td>\n",
       "      <td>Oklahoma</td>\n",
       "      <td>51</td>\n",
       "      <td>2017-01-01</td>\n",
       "      <td>1</td>\n",
       "      <td>married</td>\n",
       "      <td>155673</td>\n",
       "    </tr>\n",
       "    <tr>\n",
       "      <th>105</th>\n",
       "      <td>29778</td>\n",
       "      <td>NaN</td>\n",
       "      <td>Dawson</td>\n",
       "      <td>Female</td>\n",
       "      <td>Utah</td>\n",
       "      <td>63</td>\n",
       "      <td>2017-01-01</td>\n",
       "      <td>3</td>\n",
       "      <td>married</td>\n",
       "      <td>151819</td>\n",
       "    </tr>\n",
       "  </tbody>\n",
       "</table>\n",
       "</div>"
      ],
      "text/plain": [
       "    user_id first_name last_name     sex      state  age date_joined  \\\n",
       "53    76659        NaN   Gilbert    Male   Colorado   26  2017-01-01   \n",
       "73    13738        NaN     Frost  Female  Louisiana   39  2017-01-01   \n",
       "82    89996        NaN    Dawson  Female     Oregon   52  2017-01-01   \n",
       "99    96166        NaN   Oconnor    Male   Oklahoma   51  2017-01-01   \n",
       "105   29778        NaN    Dawson  Female       Utah   63  2017-01-01   \n",
       "\n",
       "     number_of_dependents marital_status  income  \n",
       "53                      2        married   41709  \n",
       "73                      0         single   82518  \n",
       "82                      3        married  117099  \n",
       "99                      1        married  155673  \n",
       "105                     3        married  151819  "
      ]
     },
     "execution_count": 38,
     "metadata": {},
     "output_type": "execute_result"
    }
   ],
   "source": [
    "#05.3 see first 5 rows of df_first_name\n",
    "df_first_name.head()"
   ]
  },
  {
   "cell_type": "markdown",
   "id": "fc5b729c-fa0b-4e33-9007-594778ed568b",
   "metadata": {},
   "source": [
    "06 Check for Duplicates"
   ]
  },
  {
   "cell_type": "code",
   "execution_count": 40,
   "id": "0562d94f-2914-4419-95be-bd409f03df65",
   "metadata": {},
   "outputs": [
    {
     "name": "stdout",
     "output_type": "stream",
     "text": [
      "0         False\n",
      "1         False\n",
      "2         False\n",
      "3         False\n",
      "4         False\n",
      "          ...  \n",
      "206204    False\n",
      "206205    False\n",
      "206206    False\n",
      "206207    False\n",
      "206208    False\n",
      "Length: 206209, dtype: bool\n"
     ]
    }
   ],
   "source": [
    "#06.1 check for duplicates across first name, last name, state, gender, age by creating subset\n",
    "print(df_cust.duplicated(subset=['first_name', 'last_name', 'state', 'sex', 'age']))"
   ]
  },
  {
   "cell_type": "code",
   "execution_count": 41,
   "id": "2c312272-9162-4779-ba8b-56fffa182158",
   "metadata": {},
   "outputs": [
    {
     "name": "stdout",
     "output_type": "stream",
     "text": [
      "0\n"
     ]
    }
   ],
   "source": [
    "#06.2 Count of duplicates\n",
    "print(df_cust.duplicated().sum())"
   ]
  },
  {
   "cell_type": "code",
   "execution_count": 42,
   "id": "d3c68aac-45c4-4cb1-980b-ea9948764ed5",
   "metadata": {},
   "outputs": [
    {
     "name": "stdout",
     "output_type": "stream",
     "text": [
      "0         False\n",
      "1         False\n",
      "2         False\n",
      "3         False\n",
      "4         False\n",
      "          ...  \n",
      "206204     True\n",
      "206205     True\n",
      "206206     True\n",
      "206207     True\n",
      "206208     True\n",
      "Length: 206209, dtype: bool\n"
     ]
    }
   ],
   "source": [
    "#06.3 Look for duplicates in df_cust by last name, gender, age\n",
    "print(df_cust.duplicated(subset=['last_name', 'sex', 'age']))"
   ]
  },
  {
   "cell_type": "code",
   "execution_count": 43,
   "id": "5e76200c-8aab-4bf1-a6bd-ee0a59e38738",
   "metadata": {},
   "outputs": [
    {
     "name": "stdout",
     "output_type": "stream",
     "text": [
      "0\n"
     ]
    }
   ],
   "source": [
    "#06.4 Count of duplicates\n",
    "print(df_cust.duplicated().sum())"
   ]
  },
  {
   "cell_type": "code",
   "execution_count": 44,
   "id": "123241ed-f2f5-4a80-8791-36cdbcdcde2f",
   "metadata": {},
   "outputs": [
    {
     "name": "stdout",
     "output_type": "stream",
     "text": [
      "False    206209\n",
      "Name: count, dtype: int64\n"
     ]
    }
   ],
   "source": [
    "#06.5 frequency of duplicates\n",
    "print(df_cust.duplicated().value_counts())"
   ]
  },
  {
   "cell_type": "code",
   "execution_count": 45,
   "id": "3167f8d4-61f7-4120-9741-09ff21f22fb5",
   "metadata": {},
   "outputs": [
    {
     "name": "stdout",
     "output_type": "stream",
     "text": [
      "0         False\n",
      "1         False\n",
      "2         False\n",
      "3         False\n",
      "4         False\n",
      "          ...  \n",
      "206204    False\n",
      "206205    False\n",
      "206206    False\n",
      "206207    False\n",
      "206208    False\n",
      "Length: 206209, dtype: bool\n"
     ]
    }
   ],
   "source": [
    "#06.6 duplicate user_id check\n",
    "print(df_cust.duplicated(subset=['user_id']))"
   ]
  },
  {
   "cell_type": "code",
   "execution_count": 46,
   "id": "478b5083-7e6c-4f05-99c8-78ea175b8aa4",
   "metadata": {},
   "outputs": [
    {
     "name": "stdout",
     "output_type": "stream",
     "text": [
      "False    206209\n",
      "Name: count, dtype: int64\n"
     ]
    }
   ],
   "source": [
    "#06.7 check frequency user_id duplicates\n",
    "print(df_cust.duplicated().value_counts())"
   ]
  },
  {
   "cell_type": "markdown",
   "id": "36a9f066-cf5e-47be-a040-99f376d90b2e",
   "metadata": {},
   "source": [
    "07 Check for mix data types"
   ]
  },
  {
   "cell_type": "code",
   "execution_count": 48,
   "id": "9a55d5c6-3326-4735-9f45-b5b461f8f1bc",
   "metadata": {},
   "outputs": [
    {
     "name": "stdout",
     "output_type": "stream",
     "text": [
      "first_name\n"
     ]
    }
   ],
   "source": [
    "#07.1 check for mixed type data\n",
    "for col in df_cust.columns.tolist():\n",
    "    weird = (df_cust[[col]].map(type) !=df_cust[[col]].iloc[0].apply(type)).any(axis=1)\n",
    "    if len (df_cust[weird]) > 0:\n",
    "        print (col)"
   ]
  },
  {
   "cell_type": "code",
   "execution_count": 49,
   "id": "b6ee5cbd-d559-4f5d-ac59-59865edfec7b",
   "metadata": {},
   "outputs": [],
   "source": [
    "#07.2 I don't think I even need this column because I have user_id but I don't want to delete just in case it is needed as an identification tool. \n",
    "#07.3 I don't think it matters that First Name is mixed data because the mixed values are the missing values"
   ]
  },
  {
   "cell_type": "code",
   "execution_count": 50,
   "id": "e02de48b-bc56-4d19-9bb8-7bb11355faf3",
   "metadata": {},
   "outputs": [
    {
     "data": {
      "text/plain": [
       "dtype('O')"
      ]
     },
     "execution_count": 50,
     "metadata": {},
     "output_type": "execute_result"
    }
   ],
   "source": [
    "#07.4 \n",
    "df_cust['first_name'].dtypes"
   ]
  },
  {
   "cell_type": "code",
   "execution_count": 51,
   "id": "5e4aa32a-e4f0-4d99-bacf-056b97cc6b19",
   "metadata": {
    "scrolled": true
   },
   "outputs": [
    {
     "data": {
      "text/plain": [
       "(206209, 10)"
      ]
     },
     "execution_count": 51,
     "metadata": {},
     "output_type": "execute_result"
    }
   ],
   "source": [
    "#07.5 check shape after cleaning\n",
    "df_cust.shape"
   ]
  },
  {
   "cell_type": "code",
   "execution_count": 52,
   "id": "51fd407f-c7ea-444d-af89-c6e77667da7c",
   "metadata": {},
   "outputs": [
    {
     "data": {
      "text/plain": [
       "dtype('O')"
      ]
     },
     "execution_count": 52,
     "metadata": {},
     "output_type": "execute_result"
    }
   ],
   "source": [
    "#07.6 \n",
    "df_cust['user_id'].dtypes"
   ]
  },
  {
   "cell_type": "markdown",
   "id": "9b283c70-5747-46dc-b32c-8ce289529d22",
   "metadata": {},
   "source": [
    "08 Import data for merge"
   ]
  },
  {
   "cell_type": "code",
   "execution_count": 54,
   "id": "83a3ec5e-92fe-4860-bb11-371a7019f7ab",
   "metadata": {},
   "outputs": [],
   "source": [
    "#08.1 import ords_prods_merge_48.pkl\n",
    "df_op_merge=pd.read_pickle(os.path.join(path, '02 Data', 'Prepared Data', 'op_merged_new.pkl'))"
   ]
  },
  {
   "cell_type": "code",
   "execution_count": 55,
   "id": "0b4dd69d-27e5-42fa-980e-57e8f7a5891c",
   "metadata": {},
   "outputs": [
    {
     "data": {
      "text/plain": [
       "dtype('int64')"
      ]
     },
     "execution_count": 55,
     "metadata": {},
     "output_type": "execute_result"
    }
   ],
   "source": [
    "#08.2\n",
    "df_op_merge['user_id'].dtypes"
   ]
  },
  {
   "cell_type": "code",
   "execution_count": 56,
   "id": "2841beec-16e1-4c53-ac5a-19b5da5162cc",
   "metadata": {},
   "outputs": [],
   "source": [
    "#08.3\n",
    "df_op_merge['user_id']=df_op_merge['user_id'].astype('str')"
   ]
  },
  {
   "cell_type": "code",
   "execution_count": 57,
   "id": "1196e0f9-ad9e-4742-bdfa-4179a10e30d7",
   "metadata": {
    "scrolled": true
   },
   "outputs": [
    {
     "data": {
      "text/plain": [
       "dtype('O')"
      ]
     },
     "execution_count": 57,
     "metadata": {},
     "output_type": "execute_result"
    }
   ],
   "source": [
    "#08.4\n",
    "df_op_merge['user_id'].dtypes"
   ]
  },
  {
   "cell_type": "code",
   "execution_count": 58,
   "id": "922a1ab6-207b-4c90-baf5-819696a6febc",
   "metadata": {
    "scrolled": true
   },
   "outputs": [
    {
     "data": {
      "text/plain": [
       "order_id                           int64\n",
       "user_id                           object\n",
       "order_number                       int64\n",
       "orders_day_of_week                 int64\n",
       "order_hour_of_day                  int64\n",
       "days_since_prior_order           float64\n",
       "product_id                         int64\n",
       "product_name                      object\n",
       "department_id                    float64\n",
       "prices                           float64\n",
       "price_range_loc                   object\n",
       "busiest_day                       object\n",
       "busiest_days                      object\n",
       "busiest_period_of_day             object\n",
       "max_order                          int64\n",
       "loyalty_flag                      object\n",
       "spending_flag                     object\n",
       "average_price                    float64\n",
       "median_days_since_prior_order    float64\n",
       "frequency_flag                    object\n",
       "dtype: object"
      ]
     },
     "execution_count": 58,
     "metadata": {},
     "output_type": "execute_result"
    }
   ],
   "source": [
    "#08.5 data types\n",
    "df_op_merge.dtypes"
   ]
  },
  {
   "cell_type": "code",
   "execution_count": 59,
   "id": "1cb8d5b3-2d5a-46a7-8c79-bd0f6240d277",
   "metadata": {},
   "outputs": [],
   "source": [
    "#08.5 merge data \n",
    "df_orders_products_all=df_cust.merge(df_op_merge, on=['user_id'], how='outer')"
   ]
  },
  {
   "cell_type": "code",
   "execution_count": 60,
   "id": "02dab3e0-8a88-4b30-b2fd-b8e1a93ef0fb",
   "metadata": {},
   "outputs": [
    {
     "data": {
      "text/plain": [
       "(32435059, 29)"
      ]
     },
     "execution_count": 60,
     "metadata": {},
     "output_type": "execute_result"
    }
   ],
   "source": [
    "#08.6 show shape of new file\n",
    "df_orders_products_all.shape"
   ]
  },
  {
   "cell_type": "code",
   "execution_count": 61,
   "id": "97172614-ef6b-4a72-be7d-77f6b815751e",
   "metadata": {},
   "outputs": [],
   "source": [
    "#08.7 export pickle file\n",
    "df_orders_products_all.to_pickle(os.path.join(path, '02 Data', 'Prepared Data', 'orders_products_all.pkl'))"
   ]
  },
  {
   "cell_type": "code",
   "execution_count": null,
   "id": "dcc683d9-9e44-46d7-a351-0391f7e85ab5",
   "metadata": {},
   "outputs": [],
   "source": []
  }
 ],
 "metadata": {
  "kernelspec": {
   "display_name": "Python 3 (ipykernel)",
   "language": "python",
   "name": "python3"
  },
  "language_info": {
   "codemirror_mode": {
    "name": "ipython",
    "version": 3
   },
   "file_extension": ".py",
   "mimetype": "text/x-python",
   "name": "python",
   "nbconvert_exporter": "python",
   "pygments_lexer": "ipython3",
   "version": "3.12.4"
  }
 },
 "nbformat": 4,
 "nbformat_minor": 5
}
