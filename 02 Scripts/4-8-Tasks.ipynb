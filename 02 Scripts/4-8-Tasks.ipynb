{
 "cells": [
  {
   "cell_type": "markdown",
   "id": "878c97e1-d913-4a1f-8182-a35090df4cb5",
   "metadata": {},
   "source": [
    "4-8 End of Assessment Tasks"
   ]
  },
  {
   "cell_type": "markdown",
   "id": "186aa355-a742-4d44-b0e0-3dfb66a1c7b9",
   "metadata": {},
   "source": [
    "01 import datasets and libraries"
   ]
  },
  {
   "cell_type": "code",
   "execution_count": 1,
   "id": "9a619bee-1b78-4d9e-900d-fd74f3fade58",
   "metadata": {},
   "outputs": [],
   "source": [
    "#01.1 import libraries\n",
    "import pandas as pd\n",
    "import numpy as np\n",
    "import os"
   ]
  },
  {
   "cell_type": "code",
   "execution_count": 3,
   "id": "c3e02947-44b0-4df1-90d8-fcd4d7fb4ff4",
   "metadata": {},
   "outputs": [],
   "source": [
    "#01.2 create path to dataframe files\n",
    "path=r'D:\\Joan\\CareerFoundry\\Assessment 4\\2024-08-Instacart Basket Analysis\\02 Data\\Prepared Data'"
   ]
  },
  {
   "cell_type": "code",
   "execution_count": 5,
   "id": "e9df6e3a-d5fe-4677-9854-f72d1e519b10",
   "metadata": {},
   "outputs": [],
   "source": [
    "#01.3 import dataset\n",
    "df_ords_prods_merge=pd.read_pickle(os.path.join(path, 'ords_prods_merge_47.pkl'))"
   ]
  },
  {
   "cell_type": "code",
   "execution_count": 7,
   "id": "15a46093-d57a-4845-826e-28afd44774d1",
   "metadata": {},
   "outputs": [
    {
     "data": {
      "text/plain": [
       "(32435059, 19)"
      ]
     },
     "execution_count": 7,
     "metadata": {},
     "output_type": "execute_result"
    }
   ],
   "source": [
    "#01.4 check shape of df_ords_prods_merge\n",
    "df_ords_prods_merge.shape"
   ]
  },
  {
   "cell_type": "markdown",
   "id": "081b6dd9-ab8b-4fa9-bd6f-6b68c95f3d7d",
   "metadata": {},
   "source": [
    "02 Aggregated Mean for Entire Dataframe"
   ]
  },
  {
   "cell_type": "code",
   "execution_count": 9,
   "id": "61b1b96e-1afa-42f8-b53a-96a034fd2b69",
   "metadata": {},
   "outputs": [
    {
     "data": {
      "text/plain": [
       "Index(['order_id', 'user_id', 'order_number', 'orders_day_of_week',\n",
       "       'order_hour_of_day', 'days_since_prior_order', 'product_id',\n",
       "       'add_to_cart_order', 'reordered', 'product_name', 'aisle_id',\n",
       "       'department_id', 'prices', 'price_range_loc', 'busiest_day',\n",
       "       'busiest_days', 'busiest_period_of_day', 'max_order', 'loyalty_flag'],\n",
       "      dtype='object')"
      ]
     },
     "execution_count": 9,
     "metadata": {},
     "output_type": "execute_result"
    }
   ],
   "source": [
    "#02.1 see dataframe columns\n",
    "df_ords_prods_merge.columns"
   ]
  },
  {
   "cell_type": "code",
   "execution_count": 11,
   "id": "50b48db9-10ca-408d-b478-54ab310ad4d4",
   "metadata": {},
   "outputs": [
    {
     "data": {
      "text/html": [
       "<div>\n",
       "<style scoped>\n",
       "    .dataframe tbody tr th:only-of-type {\n",
       "        vertical-align: middle;\n",
       "    }\n",
       "\n",
       "    .dataframe tbody tr th {\n",
       "        vertical-align: top;\n",
       "    }\n",
       "\n",
       "    .dataframe thead tr th {\n",
       "        text-align: left;\n",
       "    }\n",
       "\n",
       "    .dataframe thead tr:last-of-type th {\n",
       "        text-align: right;\n",
       "    }\n",
       "</style>\n",
       "<table border=\"1\" class=\"dataframe\">\n",
       "  <thead>\n",
       "    <tr>\n",
       "      <th></th>\n",
       "      <th>order_number</th>\n",
       "    </tr>\n",
       "    <tr>\n",
       "      <th></th>\n",
       "      <th>mean</th>\n",
       "    </tr>\n",
       "    <tr>\n",
       "      <th>department_id</th>\n",
       "      <th></th>\n",
       "    </tr>\n",
       "  </thead>\n",
       "  <tbody>\n",
       "    <tr>\n",
       "      <th>1.0</th>\n",
       "      <td>15.457838</td>\n",
       "    </tr>\n",
       "    <tr>\n",
       "      <th>2.0</th>\n",
       "      <td>17.277920</td>\n",
       "    </tr>\n",
       "    <tr>\n",
       "      <th>3.0</th>\n",
       "      <td>17.170395</td>\n",
       "    </tr>\n",
       "    <tr>\n",
       "      <th>4.0</th>\n",
       "      <td>17.811403</td>\n",
       "    </tr>\n",
       "    <tr>\n",
       "      <th>5.0</th>\n",
       "      <td>15.215751</td>\n",
       "    </tr>\n",
       "    <tr>\n",
       "      <th>6.0</th>\n",
       "      <td>16.439806</td>\n",
       "    </tr>\n",
       "    <tr>\n",
       "      <th>7.0</th>\n",
       "      <td>17.225802</td>\n",
       "    </tr>\n",
       "    <tr>\n",
       "      <th>8.0</th>\n",
       "      <td>15.340650</td>\n",
       "    </tr>\n",
       "    <tr>\n",
       "      <th>9.0</th>\n",
       "      <td>15.895474</td>\n",
       "    </tr>\n",
       "    <tr>\n",
       "      <th>10.0</th>\n",
       "      <td>20.197148</td>\n",
       "    </tr>\n",
       "    <tr>\n",
       "      <th>11.0</th>\n",
       "      <td>16.170638</td>\n",
       "    </tr>\n",
       "    <tr>\n",
       "      <th>12.0</th>\n",
       "      <td>15.887671</td>\n",
       "    </tr>\n",
       "    <tr>\n",
       "      <th>13.0</th>\n",
       "      <td>16.583536</td>\n",
       "    </tr>\n",
       "    <tr>\n",
       "      <th>14.0</th>\n",
       "      <td>16.773669</td>\n",
       "    </tr>\n",
       "    <tr>\n",
       "      <th>15.0</th>\n",
       "      <td>16.165037</td>\n",
       "    </tr>\n",
       "    <tr>\n",
       "      <th>16.0</th>\n",
       "      <td>17.665606</td>\n",
       "    </tr>\n",
       "    <tr>\n",
       "      <th>17.0</th>\n",
       "      <td>15.694469</td>\n",
       "    </tr>\n",
       "    <tr>\n",
       "      <th>18.0</th>\n",
       "      <td>19.310397</td>\n",
       "    </tr>\n",
       "    <tr>\n",
       "      <th>19.0</th>\n",
       "      <td>17.177343</td>\n",
       "    </tr>\n",
       "    <tr>\n",
       "      <th>20.0</th>\n",
       "      <td>16.473447</td>\n",
       "    </tr>\n",
       "    <tr>\n",
       "      <th>21.0</th>\n",
       "      <td>22.902379</td>\n",
       "    </tr>\n",
       "  </tbody>\n",
       "</table>\n",
       "</div>"
      ],
      "text/plain": [
       "              order_number\n",
       "                      mean\n",
       "department_id             \n",
       "1.0              15.457838\n",
       "2.0              17.277920\n",
       "3.0              17.170395\n",
       "4.0              17.811403\n",
       "5.0              15.215751\n",
       "6.0              16.439806\n",
       "7.0              17.225802\n",
       "8.0              15.340650\n",
       "9.0              15.895474\n",
       "10.0             20.197148\n",
       "11.0             16.170638\n",
       "12.0             15.887671\n",
       "13.0             16.583536\n",
       "14.0             16.773669\n",
       "15.0             16.165037\n",
       "16.0             17.665606\n",
       "17.0             15.694469\n",
       "18.0             19.310397\n",
       "19.0             17.177343\n",
       "20.0             16.473447\n",
       "21.0             22.902379"
      ]
     },
     "execution_count": 11,
     "metadata": {},
     "output_type": "execute_result"
    }
   ],
   "source": [
    "#02.2 Aggregated mean of order_number grouped by department_id\n",
    "df_ords_prods_merge.groupby('department_id').agg({'order_number': ['mean']})"
   ]
  },
  {
   "cell_type": "markdown",
   "id": "42b62c39-48fc-4c47-b74a-37dfdd71aaf6",
   "metadata": {
    "jupyter": {
     "source_hidden": true
    }
   },
   "source": [
    "02.1 From eyeballing the numbers I don't see a lot of difference between the subset results and the results of the full dataframe. On average most orders include department id 21 in both results. Departments 1 and 5 are the lowest on average in both results. "
   ]
  },
  {
   "cell_type": "markdown",
   "id": "0f06452c-d39b-4cbf-948d-5409a6c45209",
   "metadata": {},
   "source": [
    "03 Create Loyalty Flag - We did this in during the assessment. It is already in my updated dataset."
   ]
  },
  {
   "cell_type": "markdown",
   "id": "9372a3be-a75d-4207-baff-ed4796f95daa",
   "metadata": {},
   "source": [
    "04 Marketing (prices of products purchased by customer loyalty)"
   ]
  },
  {
   "cell_type": "code",
   "execution_count": 20,
   "id": "4a699d7f-6719-4cca-b58f-8bb3e2546f77",
   "metadata": {},
   "outputs": [
    {
     "data": {
      "text/plain": [
       "<pandas.core.groupby.generic.DataFrameGroupBy object at 0x0000027A84F7F890>"
      ]
     },
     "execution_count": 20,
     "metadata": {},
     "output_type": "execute_result"
    }
   ],
   "source": [
    "#04.1 Group df_ords_prods_merge by loyalty_flag\n",
    "df_ords_prods_merge.groupby('loyalty_flag')"
   ]
  },
  {
   "cell_type": "code",
   "execution_count": 22,
   "id": "35fd9fc8-809f-46b9-bec7-2d0d2ef0c55c",
   "metadata": {},
   "outputs": [
    {
     "data": {
      "text/html": [
       "<div>\n",
       "<style scoped>\n",
       "    .dataframe tbody tr th:only-of-type {\n",
       "        vertical-align: middle;\n",
       "    }\n",
       "\n",
       "    .dataframe tbody tr th {\n",
       "        vertical-align: top;\n",
       "    }\n",
       "\n",
       "    .dataframe thead tr th {\n",
       "        text-align: left;\n",
       "    }\n",
       "\n",
       "    .dataframe thead tr:last-of-type th {\n",
       "        text-align: right;\n",
       "    }\n",
       "</style>\n",
       "<table border=\"1\" class=\"dataframe\">\n",
       "  <thead>\n",
       "    <tr>\n",
       "      <th></th>\n",
       "      <th colspan=\"3\" halign=\"left\">prices</th>\n",
       "    </tr>\n",
       "    <tr>\n",
       "      <th></th>\n",
       "      <th>mean</th>\n",
       "      <th>min</th>\n",
       "      <th>max</th>\n",
       "    </tr>\n",
       "    <tr>\n",
       "      <th>loyalty_flag</th>\n",
       "      <th></th>\n",
       "      <th></th>\n",
       "      <th></th>\n",
       "    </tr>\n",
       "  </thead>\n",
       "  <tbody>\n",
       "    <tr>\n",
       "      <th>Loyal customer</th>\n",
       "      <td>10.386336</td>\n",
       "      <td>1.0</td>\n",
       "      <td>99999.0</td>\n",
       "    </tr>\n",
       "    <tr>\n",
       "      <th>New customer</th>\n",
       "      <td>13.294670</td>\n",
       "      <td>1.0</td>\n",
       "      <td>99999.0</td>\n",
       "    </tr>\n",
       "    <tr>\n",
       "      <th>Regular customer</th>\n",
       "      <td>12.495717</td>\n",
       "      <td>1.0</td>\n",
       "      <td>99999.0</td>\n",
       "    </tr>\n",
       "  </tbody>\n",
       "</table>\n",
       "</div>"
      ],
      "text/plain": [
       "                     prices              \n",
       "                       mean  min      max\n",
       "loyalty_flag                             \n",
       "Loyal customer    10.386336  1.0  99999.0\n",
       "New customer      13.294670  1.0  99999.0\n",
       "Regular customer  12.495717  1.0  99999.0"
      ]
     },
     "execution_count": 22,
     "metadata": {},
     "output_type": "execute_result"
    }
   ],
   "source": [
    "#04.2 Aggregate new grouped object\n",
    "df_ords_prods_merge.groupby('loyalty_flag').agg({'prices' : ['mean', 'min', 'max']})"
   ]
  },
  {
   "cell_type": "markdown",
   "id": "a70b6646-19f8-4674-98c0-6dfa090c9dea",
   "metadata": {},
   "source": [
    "05 Marketing Create Spending Flag"
   ]
  },
  {
   "cell_type": "code",
   "execution_count": 40,
   "id": "93eba5e9-0be6-44a7-892e-953e02d7a555",
   "metadata": {},
   "outputs": [
    {
     "name": "stderr",
     "output_type": "stream",
     "text": [
      "C:\\Users\\jonba\\AppData\\Local\\Temp\\ipykernel_3088\\1272708729.py:2: FutureWarning: The provided callable <function mean at 0x0000027AAFDB6FC0> is currently using SeriesGroupBy.mean. In a future version of pandas, the provided callable will be used directly. To keep current behavior pass the string \"mean\" instead.\n",
      "  df_ords_prods_merge['average_price']=df_ords_prods_merge.groupby(['user_id'])['prices'].transform(np.mean)\n"
     ]
    }
   ],
   "source": [
    "#05.1 split data by user_id based on average prices and create new column average_price\n",
    "df_ords_prods_merge['average_price']=df_ords_prods_merge.groupby(['user_id'])['prices'].transform(np.mean)"
   ]
  },
  {
   "cell_type": "code",
   "execution_count": 42,
   "id": "92dbef1d-a975-4d3d-9efb-d64c758a3488",
   "metadata": {},
   "outputs": [
    {
     "data": {
      "text/plain": [
       "(32435059, 21)"
      ]
     },
     "execution_count": 42,
     "metadata": {},
     "output_type": "execute_result"
    }
   ],
   "source": [
    "#05.2 check shape of data\n",
    "df_ords_prods_merge.shape"
   ]
  },
  {
   "cell_type": "code",
   "execution_count": 44,
   "id": "4fad81e8-564c-4e9a-a3bf-37909bcc9eee",
   "metadata": {
    "collapsed": true,
    "jupyter": {
     "outputs_hidden": true
    },
    "scrolled": true
   },
   "outputs": [
    {
     "data": {
      "text/html": [
       "<div>\n",
       "<style scoped>\n",
       "    .dataframe tbody tr th:only-of-type {\n",
       "        vertical-align: middle;\n",
       "    }\n",
       "\n",
       "    .dataframe tbody tr th {\n",
       "        vertical-align: top;\n",
       "    }\n",
       "\n",
       "    .dataframe thead th {\n",
       "        text-align: right;\n",
       "    }\n",
       "</style>\n",
       "<table border=\"1\" class=\"dataframe\">\n",
       "  <thead>\n",
       "    <tr style=\"text-align: right;\">\n",
       "      <th></th>\n",
       "      <th>order_id</th>\n",
       "      <th>user_id</th>\n",
       "      <th>order_number</th>\n",
       "      <th>orders_day_of_week</th>\n",
       "      <th>order_hour_of_day</th>\n",
       "      <th>days_since_prior_order</th>\n",
       "      <th>product_id</th>\n",
       "      <th>add_to_cart_order</th>\n",
       "      <th>reordered</th>\n",
       "      <th>product_name</th>\n",
       "      <th>...</th>\n",
       "      <th>department_id</th>\n",
       "      <th>prices</th>\n",
       "      <th>price_range_loc</th>\n",
       "      <th>busiest_day</th>\n",
       "      <th>busiest_days</th>\n",
       "      <th>busiest_period_of_day</th>\n",
       "      <th>max_order</th>\n",
       "      <th>loyalty_flag</th>\n",
       "      <th>spending_flag</th>\n",
       "      <th>average_price</th>\n",
       "    </tr>\n",
       "  </thead>\n",
       "  <tbody>\n",
       "    <tr>\n",
       "      <th>0</th>\n",
       "      <td>2539329</td>\n",
       "      <td>1</td>\n",
       "      <td>1</td>\n",
       "      <td>2</td>\n",
       "      <td>8</td>\n",
       "      <td>NaN</td>\n",
       "      <td>196</td>\n",
       "      <td>1</td>\n",
       "      <td>0</td>\n",
       "      <td>Soda</td>\n",
       "      <td>...</td>\n",
       "      <td>7.0</td>\n",
       "      <td>9.0</td>\n",
       "      <td>Mid-range product</td>\n",
       "      <td>Regularly busy</td>\n",
       "      <td>Regularly busy days</td>\n",
       "      <td>Average orders</td>\n",
       "      <td>10</td>\n",
       "      <td>New customer</td>\n",
       "      <td>6.367797</td>\n",
       "      <td>6.367797</td>\n",
       "    </tr>\n",
       "    <tr>\n",
       "      <th>1</th>\n",
       "      <td>2539329</td>\n",
       "      <td>1</td>\n",
       "      <td>1</td>\n",
       "      <td>2</td>\n",
       "      <td>8</td>\n",
       "      <td>NaN</td>\n",
       "      <td>14084</td>\n",
       "      <td>2</td>\n",
       "      <td>0</td>\n",
       "      <td>Organic Unsweetened Vanilla Almond Milk</td>\n",
       "      <td>...</td>\n",
       "      <td>16.0</td>\n",
       "      <td>12.5</td>\n",
       "      <td>Mid-range product</td>\n",
       "      <td>Regularly busy</td>\n",
       "      <td>Regularly busy days</td>\n",
       "      <td>Average orders</td>\n",
       "      <td>10</td>\n",
       "      <td>New customer</td>\n",
       "      <td>6.367797</td>\n",
       "      <td>6.367797</td>\n",
       "    </tr>\n",
       "    <tr>\n",
       "      <th>2</th>\n",
       "      <td>2539329</td>\n",
       "      <td>1</td>\n",
       "      <td>1</td>\n",
       "      <td>2</td>\n",
       "      <td>8</td>\n",
       "      <td>NaN</td>\n",
       "      <td>12427</td>\n",
       "      <td>3</td>\n",
       "      <td>0</td>\n",
       "      <td>Original Beef Jerky</td>\n",
       "      <td>...</td>\n",
       "      <td>19.0</td>\n",
       "      <td>4.4</td>\n",
       "      <td>Low-range product</td>\n",
       "      <td>Regularly busy</td>\n",
       "      <td>Regularly busy days</td>\n",
       "      <td>Average orders</td>\n",
       "      <td>10</td>\n",
       "      <td>New customer</td>\n",
       "      <td>6.367797</td>\n",
       "      <td>6.367797</td>\n",
       "    </tr>\n",
       "    <tr>\n",
       "      <th>3</th>\n",
       "      <td>2539329</td>\n",
       "      <td>1</td>\n",
       "      <td>1</td>\n",
       "      <td>2</td>\n",
       "      <td>8</td>\n",
       "      <td>NaN</td>\n",
       "      <td>26088</td>\n",
       "      <td>4</td>\n",
       "      <td>0</td>\n",
       "      <td>Aged White Cheddar Popcorn</td>\n",
       "      <td>...</td>\n",
       "      <td>19.0</td>\n",
       "      <td>4.7</td>\n",
       "      <td>Low-range product</td>\n",
       "      <td>Regularly busy</td>\n",
       "      <td>Regularly busy days</td>\n",
       "      <td>Average orders</td>\n",
       "      <td>10</td>\n",
       "      <td>New customer</td>\n",
       "      <td>6.367797</td>\n",
       "      <td>6.367797</td>\n",
       "    </tr>\n",
       "    <tr>\n",
       "      <th>4</th>\n",
       "      <td>2539329</td>\n",
       "      <td>1</td>\n",
       "      <td>1</td>\n",
       "      <td>2</td>\n",
       "      <td>8</td>\n",
       "      <td>NaN</td>\n",
       "      <td>26405</td>\n",
       "      <td>5</td>\n",
       "      <td>0</td>\n",
       "      <td>XL Pick-A-Size Paper Towel Rolls</td>\n",
       "      <td>...</td>\n",
       "      <td>17.0</td>\n",
       "      <td>1.0</td>\n",
       "      <td>Low-range product</td>\n",
       "      <td>Regularly busy</td>\n",
       "      <td>Regularly busy days</td>\n",
       "      <td>Average orders</td>\n",
       "      <td>10</td>\n",
       "      <td>New customer</td>\n",
       "      <td>6.367797</td>\n",
       "      <td>6.367797</td>\n",
       "    </tr>\n",
       "  </tbody>\n",
       "</table>\n",
       "<p>5 rows × 21 columns</p>\n",
       "</div>"
      ],
      "text/plain": [
       "   order_id  user_id  order_number  orders_day_of_week  order_hour_of_day  \\\n",
       "0   2539329        1             1                   2                  8   \n",
       "1   2539329        1             1                   2                  8   \n",
       "2   2539329        1             1                   2                  8   \n",
       "3   2539329        1             1                   2                  8   \n",
       "4   2539329        1             1                   2                  8   \n",
       "\n",
       "   days_since_prior_order  product_id  add_to_cart_order  reordered  \\\n",
       "0                     NaN         196                  1          0   \n",
       "1                     NaN       14084                  2          0   \n",
       "2                     NaN       12427                  3          0   \n",
       "3                     NaN       26088                  4          0   \n",
       "4                     NaN       26405                  5          0   \n",
       "\n",
       "                              product_name  ...  department_id  prices  \\\n",
       "0                                     Soda  ...            7.0     9.0   \n",
       "1  Organic Unsweetened Vanilla Almond Milk  ...           16.0    12.5   \n",
       "2                      Original Beef Jerky  ...           19.0     4.4   \n",
       "3               Aged White Cheddar Popcorn  ...           19.0     4.7   \n",
       "4         XL Pick-A-Size Paper Towel Rolls  ...           17.0     1.0   \n",
       "\n",
       "     price_range_loc     busiest_day         busiest_days  \\\n",
       "0  Mid-range product  Regularly busy  Regularly busy days   \n",
       "1  Mid-range product  Regularly busy  Regularly busy days   \n",
       "2  Low-range product  Regularly busy  Regularly busy days   \n",
       "3  Low-range product  Regularly busy  Regularly busy days   \n",
       "4  Low-range product  Regularly busy  Regularly busy days   \n",
       "\n",
       "  busiest_period_of_day max_order  loyalty_flag spending_flag  average_price  \n",
       "0        Average orders        10  New customer      6.367797       6.367797  \n",
       "1        Average orders        10  New customer      6.367797       6.367797  \n",
       "2        Average orders        10  New customer      6.367797       6.367797  \n",
       "3        Average orders        10  New customer      6.367797       6.367797  \n",
       "4        Average orders        10  New customer      6.367797       6.367797  \n",
       "\n",
       "[5 rows x 21 columns]"
      ]
     },
     "execution_count": 44,
     "metadata": {},
     "output_type": "execute_result"
    }
   ],
   "source": [
    "#05.2 show first five rows\n",
    "df_ords_prods_merge.head()"
   ]
  },
  {
   "cell_type": "code",
   "execution_count": 72,
   "id": "89103ca8-da88-45c3-9c66-0d9bb75720e0",
   "metadata": {},
   "outputs": [],
   "source": [
    "#05.3 create parameters for categories for spending_flag\n",
    "df_ords_prods_merge.loc[df_ords_prods_merge['average_price'] < 10, 'spending_flag'] = 'Low spender'\n",
    "df_ords_prods_merge.loc[df_ords_prods_merge['average_price'] >= 10, 'spending_flag'] = 'High spender'"
   ]
  },
  {
   "cell_type": "code",
   "execution_count": 74,
   "id": "7b86c9ff-bf66-4ec2-8109-89081f7791fb",
   "metadata": {},
   "outputs": [
    {
     "data": {
      "text/plain": [
       "spending_flag\n",
       "Low spender     31800381\n",
       "High spender      634678\n",
       "Name: count, dtype: int64"
      ]
     },
     "execution_count": 74,
     "metadata": {},
     "output_type": "execute_result"
    }
   ],
   "source": [
    "#05.4 check frequency of df_ords_prods_merge['spending_flag']\n",
    "df_ords_prods_merge['spending_flag'].value_counts()"
   ]
  },
  {
   "cell_type": "markdown",
   "id": "96eacf03-89df-495b-b5be-58c6e688286e",
   "metadata": {
    "jupyter": {
     "source_hidden": true
    }
   },
   "source": [
    "06 Marketing Order Frequency Flag"
   ]
  },
  {
   "cell_type": "code",
   "execution_count": 76,
   "id": "9adc0b38-9716-4558-b396-3859dd4c878e",
   "metadata": {},
   "outputs": [
    {
     "name": "stderr",
     "output_type": "stream",
     "text": [
      "C:\\Users\\jonba\\AppData\\Local\\Temp\\ipykernel_3088\\528451255.py:2: FutureWarning: The provided callable <function median at 0x0000027AAFFB1D00> is currently using SeriesGroupBy.median. In a future version of pandas, the provided callable will be used directly. To keep current behavior pass the string \"median\" instead.\n",
      "  df_ords_prods_merge['median_days_since_prior_order']=df_ords_prods_merge.groupby(['user_id'])['days_since_prior_order'].transform(np.median)\n"
     ]
    }
   ],
   "source": [
    "#06.1 split data by user_id based on average prices and create new column average_price\n",
    "df_ords_prods_merge['median_days_since_prior_order']=df_ords_prods_merge.groupby(['user_id'])['days_since_prior_order'].transform(np.median)"
   ]
  },
  {
   "cell_type": "code",
   "execution_count": 77,
   "id": "f43812c4-0c31-42c0-aa6b-ea1d8ba36f8a",
   "metadata": {},
   "outputs": [
    {
     "data": {
      "text/plain": [
       "(32435059, 23)"
      ]
     },
     "execution_count": 77,
     "metadata": {},
     "output_type": "execute_result"
    }
   ],
   "source": [
    "#06.2 check shape of data\n",
    "df_ords_prods_merge.shape"
   ]
  },
  {
   "cell_type": "code",
   "execution_count": 80,
   "id": "eae626a0-4c1e-4618-b47a-fed07e80640f",
   "metadata": {},
   "outputs": [],
   "source": [
    "#06.3 create parameters for categories for frequency_flag\n",
    "df_ords_prods_merge.loc[df_ords_prods_merge['median_days_since_prior_order'] > 20, 'frequency_flag'] = 'Non-frequent customer'\n",
    "df_ords_prods_merge.loc[(df_ords_prods_merge['median_days_since_prior_order'] > 10) & (df_ords_prods_merge['median_days_since_prior_order'] <= 20), 'frequency_flag'] = 'Regular customer'\n",
    "df_ords_prods_merge.loc[df_ords_prods_merge['median_days_since_prior_order'] <= 10, 'frequency_flag'] = 'Frequent customer'"
   ]
  },
  {
   "cell_type": "code",
   "execution_count": 82,
   "id": "6219f544-a876-41e5-a5ab-a9df0992abc5",
   "metadata": {},
   "outputs": [
    {
     "data": {
      "text/plain": [
       "frequency_flag\n",
       "Frequent customer        21578273\n",
       "Regular customer          7217066\n",
       "Non-frequent customer     3639720\n",
       "Name: count, dtype: int64"
      ]
     },
     "execution_count": 82,
     "metadata": {},
     "output_type": "execute_result"
    }
   ],
   "source": [
    "#06.4 check frequency for df_ords_prods_merge['frequency_flag']\n",
    "df_ords_prods_merge['frequency_flag'].value_counts()"
   ]
  },
  {
   "cell_type": "markdown",
   "id": "72671949-dc1f-4f63-b458-18f88170a190",
   "metadata": {},
   "source": [
    "07 Export Data"
   ]
  },
  {
   "cell_type": "code",
   "execution_count": null,
   "id": "7b72dce5-ed5b-40f1-bb4c-ad3d7a27ebe6",
   "metadata": {},
   "outputs": [],
   "source": [
    "#07.1 export data as a pickle file\n",
    "df_ords_prods_merge.to_pickle(os.path.join(path, '"
   ]
  }
 ],
 "metadata": {
  "kernelspec": {
   "display_name": "Python 3 (ipykernel)",
   "language": "python",
   "name": "python3"
  },
  "language_info": {
   "codemirror_mode": {
    "name": "ipython",
    "version": 3
   },
   "file_extension": ".py",
   "mimetype": "text/x-python",
   "name": "python",
   "nbconvert_exporter": "python",
   "pygments_lexer": "ipython3",
   "version": "3.12.4"
  }
 },
 "nbformat": 4,
 "nbformat_minor": 5
}
